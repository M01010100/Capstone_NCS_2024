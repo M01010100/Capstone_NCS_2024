{
 "cells": [
  {
   "cell_type": "code",
   "execution_count": null,
   "metadata": {},
   "outputs": [],
   "source": [
    "import numpy as np\n",
    "import pandas as pd\n",
    "import tenseal as ts\n",
    "from sklearn.model_selection import train_test_split\n",
    "from sklearn.linear_model import LogisticRegression\n",
    "from sklearn.metrics import accuracy_score, precision_score, recall_score, f1_score\n",
    "from sklearn.datasets import make_classification\n",
    "from sklearn.preprocessing import LabelEncoder\n",
    "from concurrent.futures import ThreadPoolExecutor\n",
    "import time\n",
    "from sklearn.preprocessing import StandardScaler\n",
    "\n"
   ]
  },
  {
   "cell_type": "code",
   "execution_count": null,
   "metadata": {},
   "outputs": [],
   "source": [
    "# Loading and preprocessing the data\n",
    "df = pd.read_csv('payment_fraud.csv')\n",
    "\n",
    "label_encoder = LabelEncoder()\n",
    "df['paymentMethod_encoded'] = label_encoder.fit_transform(df['paymentMethod'])\n",
    "\n",
    "features = ['accountAgeDays', 'numItems', 'localTime', 'paymentMethod_encoded', 'paymentMethodAgeDays']\n",
    "X = df[features].values\n",
    "y = df['label'].values\n",
    "\n",
    "X_train, X_test, y_train, y_test = train_test_split(X, y, test_size=0.2, random_state=42)\n",
    "scaler = StandardScaler()\n",
    "X_train = scaler.fit_transform(X_train)  # Fit on training data and transform it\n",
    "X_test = scaler.transform(X_test)  # Transform test data using the same scaler\n"
   ]
  },
  {
   "cell_type": "code",
   "execution_count": null,
   "metadata": {},
   "outputs": [],
   "source": [
    "# Encryption setup with TenSEAL\n",
    "context = ts.context(ts.SCHEME_TYPE.CKKS, poly_modulus_degree=8192, coeff_mod_bit_sizes=[40, 21, 21, 21, 21, 21, 21,40])\n",
    "#context = ts.context(ts.SCHEME_TYPE.CKKS, poly_modulus_degree=16384, coeff_mod_bit_sizes=[60, 40, 40, 60, 60])\n",
    "context.generate_galois_keys()\n",
    "context.global_scale = 2 ** 40\n",
    "\n",
    "# Encrypt training and testing data\n",
    "X_train_encrypted = [ts.ckks_vector(context, x) for x in X_train]\n",
    "X_test_encrypted = [ts.ckks_vector(context, x) for x in X_test]\n"
   ]
  },
  {
   "cell_type": "code",
   "execution_count": null,
   "metadata": {},
   "outputs": [],
   "source": [
    "# Convert encrypted data to numpy array for processing\n",
    "X_train_encrypted_np = np.array(X_train_encrypted).reshape(len(X_train), -1)\n",
    "X_test_encrypted_np = np.array(X_test_encrypted).reshape(len(X_test), -1)\n"
   ]
  },
  {
   "cell_type": "code",
   "execution_count": null,
   "metadata": {},
   "outputs": [],
   "source": [
    "# Batch prediction with optimized batch size for memory efficiency\n",
    "def batch_predict(X, weights, batch_size=35):\n",
    "    predictions = []\n",
    "    for i in range(0, len(X), batch_size):\n",
    "        batch = X[i:i + batch_size]\n",
    "        batch_predictions = np.dot(batch, weights)\n",
    "        predictions.extend(batch_predictions)\n",
    "    return np.array(predictions).reshape(-1, 1)\n",
    "\n",
    "# Parallel predictions with optimized threading\n",
    "def parallel_predict(X, weights, num_workers=4):\n",
    "    def predict_batch(batch):\n",
    "        return np.dot(batch, weights)\n",
    "    \n",
    "    with ThreadPoolExecutor(max_workers=num_workers) as executor:\n",
    "        futures = [executor.submit(predict_batch, X[i::num_workers]) for i in range(num_workers)]\n",
    "        results = [future.result() for future in futures]\n",
    "    return np.concatenate(results).reshape(-1, 1)\n",
    "\n",
    "# Compute gradients function\n",
    "def compute_gradients(X, y, predictions):\n",
    "    errors = predictions - y.reshape(-1, 1)\n",
    "    gradients = np.dot(X.T, errors) / len(X)\n",
    "    return gradients\n"
   ]
  },
  {
   "cell_type": "code",
   "execution_count": null,
   "metadata": {},
   "outputs": [],
   "source": [
    "# Training loop\n",
    "start_time_enc = time.time()\n",
    "batch_size = 30 #5\n",
    "input_dim = X_train_encrypted_np.shape[1]  # Number of features\n",
    "output_dim = 1  # Assuming binary classification\n",
    "weights = np.random.randn(input_dim, output_dim)\n",
    "\n",
    "# Define learning rate and epochs\n",
    "learning_rate = 0.1\n",
    "epochs = 1\n",
    "\n",
    "for epoch in range(epochs):\n",
    "    start_time_epenc = time.time()\n",
    "    predictions = batch_predict(X_train_encrypted_np, weights, batch_size)\n",
    "    gradients = compute_gradients(X_train_encrypted_np, y_train, predictions)\n",
    "    weights -= learning_rate * gradients\n",
    "    \n",
    "    print(f\"Epoch {epoch + 1}/{epochs} completed in {time.time() - start_time_epenc:.2f} seconds\")\n",
    "\n",
    "# Testing the model\n",
    "y_pred = parallel_predict(X_test_encrypted_np, weights)\n",
    "print(f\"Predictions: {y_pred}\")\n",
    "y_pred_labels = [1 if pred >= 0.5 else 0 for pred in y_pred]\n",
    "print(f\"Predicted Labels: {y_pred_labels}\")\n",
    "\n",
    "# Model evaluation\n",
    "accuracy = accuracy_score(y_test, y_pred_labels)\n",
    "precision = precision_score(y_test, y_pred_labels)\n",
    "recall = recall_score(y_test, y_pred_labels)\n",
    "f1 = f1_score(y_test, y_pred_labels)\n",
    "timeToTrain = time.time() - start_time_enc\n",
    "\n",
    "print(f\"Encrypted Training has Finished\")\n",
    "\n"
   ]
  },
  {
   "cell_type": "code",
   "execution_count": null,
   "metadata": {},
   "outputs": [],
   "source": [
    "print(f\"Accuracy: {accuracy:.4f}\")\n",
    "print(f\"Precision: {precision:.4f}\")\n",
    "print(f\"Recall: {recall:.4f}\")\n",
    "print(f\"F1 Score: {f1:.4f}\")\n",
    "print(f\"Completed in {timeToTrain:.2f} seconds\")"
   ]
  },
  {
   "cell_type": "code",
   "execution_count": null,
   "metadata": {},
   "outputs": [],
   "source": [
    "def batch_predict(X, weights, batch_size=35):\n",
    "    predictions = []\n",
    "    for i in range(0, len(X), batch_size):\n",
    "        batch = X[i:i + batch_size]\n",
    "        batch_predictions = np.dot(batch, weights)\n",
    "        predictions.extend(batch_predictions)\n",
    "    return np.array(predictions)\n",
    "\n",
    "def parallel_predict(X, weights, num_workers=4):\n",
    "    def predict_batch(batch):\n",
    "        return np.dot(batch, weights)\n",
    "    \n",
    "    with ThreadPoolExecutor(max_workers=num_workers) as executor:\n",
    "        futures = [executor.submit(predict_batch, X[i::num_workers]) for i in range(num_workers)]\n",
    "        results = [future.result() for future in futures]\n",
    "    return np.concatenate(results)\n",
    "\n",
    "def compute_gradients(X, y, predictions):\n",
    "    errors = predictions - y.reshape(-1, 1)\n",
    "    gradients = np.dot(X.T, errors) / len(X)\n",
    "    return gradients"
   ]
  },
  {
   "cell_type": "code",
   "execution_count": null,
   "metadata": {},
   "outputs": [],
   "source": [
    "# Initialize weights (example for a simple linear model)\n",
    "start_time = time.time()\n",
    "input_dim = X_train.shape[1]\n",
    "output_dim = 1\n",
    "\n",
    "weights = np.random.randn(input_dim, output_dim)\n",
    "learning_rate = 0.0001\n",
    "epochs = 3000\n",
    "\n",
    "for epoch in range(epochs):\n",
    "    start_time_ep = time.time()\n",
    "    predictions = batch_predict(X_train, weights)\n",
    "    gradients = compute_gradients(X_train, y_train, predictions)\n",
    "    weights -= learning_rate * gradients\n",
    "    \n",
    "    print(f\"Epoch {epoch+1}/{epochs}, Weights: {weights}, completed in {time.time() - start_time_ep:.2f} seconds\")\n",
    "\n",
    "# Check predictions\n",
    "y_pred = parallel_predict(X_test, weights)\n",
    "print(f\"Predictions: {y_pred}\")\n",
    "\n",
    "y_pred_labels = [1 if pred >= 0.5 else 0 for pred in y_pred]\n",
    "print(f\"Predicted Labels: {y_pred_labels}\")\n",
    "\n",
    "accuracy = accuracy_score(y_test, y_pred_labels)\n",
    "precision = precision_score(y_test, y_pred_labels)\n",
    "recall = recall_score(y_test, y_pred_labels)\n",
    "f1 = f1_score(y_test, y_pred_labels)\n",
    "timeToTrain = time.time() - start_time\n",
    "\n"
   ]
  },
  {
   "cell_type": "code",
   "execution_count": null,
   "metadata": {},
   "outputs": [],
   "source": [
    "print(f\"Accuracy: {accuracy:.4f}\")\n",
    "print(f\"Precision: {precision:.4f}\")\n",
    "print(f\"Recall: {recall:.4f}\")\n",
    "print(f\"F1 Score: {f1:.4f}\")\n",
    "print(f\"Completed in {timeToTrain:.2f} seconds\")"
   ]
  }
 ],
 "metadata": {
  "kernelspec": {
   "display_name": "CVvid",
   "language": "python",
   "name": "python3"
  },
  "language_info": {
   "codemirror_mode": {
    "name": "ipython",
    "version": 3
   },
   "file_extension": ".py",
   "mimetype": "text/x-python",
   "name": "python",
   "nbconvert_exporter": "python",
   "pygments_lexer": "ipython3",
   "version": "3.10.15"
  }
 },
 "nbformat": 4,
 "nbformat_minor": 2
}
